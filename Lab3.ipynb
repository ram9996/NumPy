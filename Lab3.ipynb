{
 "cells": [
  {
   "cell_type": "markdown",
   "metadata": {},
   "source": [
    "# Numpy Exercise  <img src = \"numpy1.png\">\n",
    "###### Authored by T.K.Senthil Kumar"
   ]
  },
  {
   "cell_type": "markdown",
   "metadata": {},
   "source": [
    "#### 1. Create a numpy array with the number of elements equals your age. The value of array elements is a random number between 10 to your age "
   ]
  },
  {
   "cell_type": "code",
   "execution_count": 2,
   "metadata": {},
   "outputs": [
    {
     "data": {
      "text/plain": [
       "array([10, 11, 12, 13, 14, 15, 16, 17, 18, 19, 20, 21, 22, 23, 24, 25])"
      ]
     },
     "execution_count": 2,
     "metadata": {},
     "output_type": "execute_result"
    }
   ],
   "source": [
    "#Solution\n",
    "import numpy as np\n",
    "ar = np.arange(10,26)\n",
    "ar"
   ]
  },
  {
   "cell_type": "markdown",
   "metadata": {},
   "source": [
    "#### 2. Create a numpy array between 1 to 50 with the span(space) of 2 and print the length of the array"
   ]
  },
  {
   "cell_type": "code",
   "execution_count": 3,
   "metadata": {},
   "outputs": [
    {
     "name": "stdout",
     "output_type": "stream",
     "text": [
      "[ 1  3  5  7  9 11 13 15 17 19 21 23 25 27 29 31 33 35 37 39 41 43 45 47\n",
      " 49]\n",
      "the length of the array is - 25\n"
     ]
    }
   ],
   "source": [
    "# Solution\n",
    "ar1 = np.arange(1,50,2)\n",
    "print(ar1)\n",
    "print('the length of the array is -', len(ar1))"
   ]
  },
  {
   "cell_type": "markdown",
   "metadata": {},
   "source": [
    "#### 3. Create an equally spaced numpy array with 27 elements between 4 and 7 "
   ]
  },
  {
   "cell_type": "code",
   "execution_count": 4,
   "metadata": {},
   "outputs": [
    {
     "name": "stdout",
     "output_type": "stream",
     "text": [
      "[4.         4.11111111 4.22222222 4.33333333 4.44444444 4.55555556\n",
      " 4.66666667 4.77777778 4.88888889 5.         5.11111111 5.22222222\n",
      " 5.33333333 5.44444444 5.55555556 5.66666667 5.77777778 5.88888889\n",
      " 6.         6.11111111 6.22222222 6.33333333 6.44444444 6.55555556\n",
      " 6.66666667 6.77777778 6.88888889]\n"
     ]
    },
    {
     "data": {
      "text/plain": [
       "27"
      ]
     },
     "execution_count": 4,
     "metadata": {},
     "output_type": "execute_result"
    }
   ],
   "source": [
    "# Solution\n",
    "#np.random.seed(27)\n",
    "ar2 = np.arange(4,7,3/27)\n",
    "print(ar2)\n",
    "len(ar2)\n"
   ]
  },
  {
   "cell_type": "markdown",
   "metadata": {},
   "source": [
    "#### 4. Create a matrix of size (5 x 4) with random numbers and round off the each elements by only 2 fractional points."
   ]
  },
  {
   "cell_type": "code",
   "execution_count": 5,
   "metadata": {},
   "outputs": [
    {
     "data": {
      "text/plain": [
       "array([[0.51, 0.56, 0.08, 0.62],\n",
       "       [0.17, 0.15, 0.53, 0.5 ],\n",
       "       [0.16, 0.81, 0.03, 0.69],\n",
       "       [0.02, 0.12, 0.11, 0.24],\n",
       "       [0.8 , 0.68, 0.54, 0.44]])"
      ]
     },
     "execution_count": 5,
     "metadata": {},
     "output_type": "execute_result"
    }
   ],
   "source": [
    "# Solution\n",
    "ar3 = np.random.rand(5,4)\n",
    "ar3\n",
    "np.round(ar3,2)"
   ]
  },
  {
   "cell_type": "markdown",
   "metadata": {},
   "source": [
    "#### 5. Create a matrix of size (5x5) with random integers between 5 to 15"
   ]
  },
  {
   "cell_type": "code",
   "execution_count": 6,
   "metadata": {},
   "outputs": [
    {
     "data": {
      "text/plain": [
       "array([[11, 11, 13,  7, 12],\n",
       "       [ 5, 14, 10,  7,  9],\n",
       "       [ 5,  6, 11,  6, 12],\n",
       "       [13, 14,  9, 14, 10],\n",
       "       [13, 10,  7, 12, 12]])"
      ]
     },
     "execution_count": 6,
     "metadata": {},
     "output_type": "execute_result"
    }
   ],
   "source": [
    "# Solution\n",
    "ar4 = np.random.randint(5,15,(5,5))\n",
    "ar4"
   ]
  },
  {
   "cell_type": "markdown",
   "metadata": {},
   "source": [
    "#### 6. Create the one dimensional array of zeros of random length below 20 with the data type int32"
   ]
  },
  {
   "cell_type": "code",
   "execution_count": 7,
   "metadata": {},
   "outputs": [
    {
     "name": "stdout",
     "output_type": "stream",
     "text": [
      "[0 0 0 0 0 0 0 0 0 0 0 0 0 0 0 0 0 0 0]\n",
      "19\n",
      "int32\n"
     ]
    }
   ],
   "source": [
    "# Solution\n",
    "ar5 = np.zeros(19,int)\n",
    "print(ar5)\n",
    "print(len(ar5))\n",
    "print(ar5.dtype)"
   ]
  },
  {
   "cell_type": "markdown",
   "metadata": {},
   "source": [
    "#### 7. Create a two dimensional array of ones of random row and column lengths with the data type of float32 "
   ]
  },
  {
   "cell_type": "code",
   "execution_count": 8,
   "metadata": {},
   "outputs": [
    {
     "name": "stdout",
     "output_type": "stream",
     "text": [
      "[[[1. 1. 1.]\n",
      "  [1. 1. 1.]]]\n",
      "float32\n"
     ]
    }
   ],
   "source": [
    "# Solution\n",
    "ar6 = np.random.randint(1,2,(2,3))\n",
    "flt = np.array([ar6],dtype=np.float32)\n",
    "print(flt)\n",
    "print(flt.dtype)\n"
   ]
  },
  {
   "cell_type": "markdown",
   "metadata": {},
   "source": [
    "#### 8. Create a matrix exactly as same as shown below and print its shape, type and dtype\n",
    "<img src = \"np_mat1.png\">"
   ]
  },
  {
   "cell_type": "code",
   "execution_count": 9,
   "metadata": {},
   "outputs": [
    {
     "name": "stdout",
     "output_type": "stream",
     "text": [
      "[[ 9 25 50 34 45]\n",
      " [ 3 34 34 65  2]\n",
      " [ 5  7  3 76  3]\n",
      " [ 7  8  6 54  6]\n",
      " [23 12  8  5  8]]\n",
      "(5, 5)\n"
     ]
    },
    {
     "data": {
      "text/plain": [
       "dtype('int32')"
      ]
     },
     "execution_count": 9,
     "metadata": {},
     "output_type": "execute_result"
    }
   ],
   "source": [
    "# Solution\n",
    "a1 = np.array([9,25,50,34,45])\n",
    "a2 = np.array([3,34,34,65,2])\n",
    "a3 = np.array([5,7,3,76,3])\n",
    "a4 = np.array([7,8,6,54,6])\n",
    "a5 = np.array([23,12,8,5,8])\n",
    "a1 = a1.reshape(1,5)\n",
    "a2 = a2.reshape(1,5)\n",
    "a3 = a3.reshape(1,5)\n",
    "a4 = a4.reshape(1,5)\n",
    "a5 = a5.reshape(1,5)\n",
    "ar7 = np.concatenate((a1,a2,a3,a4,a5),axis = 0)\n",
    "\n",
    "print(ar7)\n",
    "\n",
    "print(ar7.shape)\n",
    "\n",
    "ar7.dtype"
   ]
  },
  {
   "cell_type": "markdown",
   "metadata": {},
   "source": [
    "#### 9. Access the center pixel of the matrix defined in the question no 8 ( Don't enter the row and column index explicitely)"
   ]
  },
  {
   "cell_type": "code",
   "execution_count": 10,
   "metadata": {},
   "outputs": [
    {
     "data": {
      "text/plain": [
       "3"
      ]
     },
     "execution_count": 10,
     "metadata": {},
     "output_type": "execute_result"
    }
   ],
   "source": [
    "# Solution\n",
    "cent = np.diagonal(ar7)\n",
    "centre = cent[2]\n",
    "centre"
   ]
  },
  {
   "cell_type": "markdown",
   "metadata": {},
   "source": [
    "## 10. Print the all the elements of 3rd row of the matrix"
   ]
  },
  {
   "cell_type": "code",
   "execution_count": 11,
   "metadata": {},
   "outputs": [
    {
     "data": {
      "text/plain": [
       "array([[ 5,  7,  3, 76,  3]])"
      ]
     },
     "execution_count": 11,
     "metadata": {},
     "output_type": "execute_result"
    }
   ],
   "source": [
    "# Solution\n",
    "row_3 = ar7[2:3]\n",
    "row_3\n"
   ]
  },
  {
   "cell_type": "markdown",
   "metadata": {},
   "source": [
    "#### 11. Print the all the elements of 4th columns of the matrix"
   ]
  },
  {
   "cell_type": "code",
   "execution_count": 12,
   "metadata": {},
   "outputs": [
    {
     "data": {
      "text/plain": [
       "array([34, 65, 76, 54,  5])"
      ]
     },
     "execution_count": 12,
     "metadata": {},
     "output_type": "execute_result"
    }
   ],
   "source": [
    "# Solution\n",
    "col_4 = ar7[:,3]\n",
    "col_4\n"
   ]
  },
  {
   "cell_type": "markdown",
   "metadata": {},
   "source": [
    "#### 12. Print the 4 corner pixels of the matrix"
   ]
  },
  {
   "cell_type": "code",
   "execution_count": 13,
   "metadata": {},
   "outputs": [
    {
     "name": "stdout",
     "output_type": "stream",
     "text": [
      "left top corner : 9\n",
      "right top corner : 45\n",
      "left bottom corner : 23\n",
      "right bottom corner : 8\n"
     ]
    }
   ],
   "source": [
    "# Solution\n",
    "n = len(ar7)\n",
    "m = len(ar7[0])\n",
    "print(\"left top corner :\",ar7[0][0])\n",
    "print(\"right top corner :\",ar7[0][m - 1])\n",
    "print(\"left bottom corner :\",ar7[n - 1][0])\n",
    "print(\"right bottom corner :\",ar7[n - 1][m - 1])\n",
    "\n"
   ]
  },
  {
   "cell_type": "markdown",
   "metadata": {},
   "source": [
    "#### 13. Create three matrix m1,m2,m3 with the elements grouped in the figure below\n",
    "<img src = \"np_mat2.png\">"
   ]
  },
  {
   "cell_type": "code",
   "execution_count": 14,
   "metadata": {},
   "outputs": [
    {
     "name": "stdout",
     "output_type": "stream",
     "text": [
      "m1 =  [[50 34]\n",
      " [34 65]]\n",
      "m2 =  [[ 7  8]\n",
      " [23 12]]\n",
      "m3 =  [[ 3 76  3]\n",
      " [ 6 54  6]\n",
      " [ 8  5  8]]\n"
     ]
    }
   ],
   "source": [
    "# Solution \n",
    "m1 = ar7[0:2,2:4]\n",
    "m2 = ar7[3:,0:2]\n",
    "m3 = ar7[2:,2:]\n",
    "print('m1 = ',m1)\n",
    "print('m2 = ',m2)\n",
    "print('m3 = ',m3)"
   ]
  },
  {
   "cell_type": "markdown",
   "metadata": {},
   "source": [
    "#### 14. Reshape all the three matrix segmented in the above task in to three  1-dimensional vector."
   ]
  },
  {
   "cell_type": "code",
   "execution_count": 15,
   "metadata": {},
   "outputs": [
    {
     "name": "stdout",
     "output_type": "stream",
     "text": [
      "[50 34 34 65]\n",
      "[ 7  8 23 12]\n",
      "[ 3 76  3  6 54  6  8  5  8]\n"
     ]
    }
   ],
   "source": [
    "# Solution\n",
    "mr1 = m1.flatten()\n",
    "mr2 = m2.flatten()\n",
    "mr3 = m3.flatten()\n",
    "print(mr1)\n",
    "print(mr2)\n",
    "print(mr3)"
   ]
  },
  {
   "cell_type": "markdown",
   "metadata": {},
   "source": [
    "#### 15. Concatenate the matrix m1 and m2 in both vertical and horizontal direction"
   ]
  },
  {
   "cell_type": "code",
   "execution_count": 16,
   "metadata": {},
   "outputs": [
    {
     "name": "stdout",
     "output_type": "stream",
     "text": [
      "[[50 34  7  8]\n",
      " [34 65 23 12]]\n",
      "[[50 34]\n",
      " [34 65]\n",
      " [ 7  8]\n",
      " [23 12]]\n"
     ]
    }
   ],
   "source": [
    "# Solution\n",
    "con_ver = np.concatenate((m1,m2),axis = 1)\n",
    "print(con_ver)\n",
    "#m_1 = m1.reshape(1,4)\n",
    "#m_2 = m2.reshape(1,4)\n",
    "con_hor = np.concatenate((m1,m2),axis = 0)\n",
    "print(con_hor)"
   ]
  },
  {
   "cell_type": "markdown",
   "metadata": {},
   "source": [
    "#### 16. Add, Subtract, multiply, divide the matrixes m1 and m2"
   ]
  },
  {
   "cell_type": "code",
   "execution_count": 17,
   "metadata": {},
   "outputs": [
    {
     "name": "stdout",
     "output_type": "stream",
     "text": [
      "[[57 42]\n",
      " [57 77]]\n",
      "[[350 272]\n",
      " [782 780]]\n",
      "[[7.14285714 4.25      ]\n",
      " [1.47826087 5.41666667]]\n"
     ]
    }
   ],
   "source": [
    "# Solution\n",
    "add = m1+m2\n",
    "multiply = m1*m2\n",
    "divide = m1/m2\n",
    "print(add)\n",
    "print(multiply)\n",
    "print(divide)"
   ]
  },
  {
   "cell_type": "markdown",
   "metadata": {},
   "source": [
    "#### 17. Add the m1 with m3 by removing the first row and last column of m3"
   ]
  },
  {
   "cell_type": "code",
   "execution_count": 18,
   "metadata": {},
   "outputs": [
    {
     "name": "stdout",
     "output_type": "stream",
     "text": [
      "[[ 6 54  6]\n",
      " [ 8  5  8]]\n",
      "[[ 6 54]\n",
      " [ 8  5]]\n"
     ]
    },
    {
     "data": {
      "text/plain": [
       "array([[57, 42],\n",
       "       [57, 77]])"
      ]
     },
     "execution_count": 18,
     "metadata": {},
     "output_type": "execute_result"
    }
   ],
   "source": [
    "# Solution\n",
    "mre3 = np.delete(m3,0,0)\n",
    "mce3 = np.delete(mre3,-1,-1)\n",
    "print(mre3)\n",
    "print(mce3)\n",
    "add_1 = m1 + m2\n",
    "add_1"
   ]
  },
  {
   "cell_type": "markdown",
   "metadata": {},
   "source": [
    "#### 18. Form the matrix m4 by concatenating (as a new row) the vector [me1, me2] with the matrix m1, where me1 and me2 are the mean values of each column on m1."
   ]
  },
  {
   "cell_type": "code",
   "execution_count": 19,
   "metadata": {},
   "outputs": [],
   "source": [
    "# Solution\n",
    "me1 = m1.mean(axis=0) #for row axis =1\n",
    "me2 = m2.mean(axis=0) \n",
    "\n"
   ]
  },
  {
   "cell_type": "markdown",
   "metadata": {},
   "source": [
    "#### 19. Perform the matrix multiplication between m3 and m4"
   ]
  },
  {
   "cell_type": "code",
   "execution_count": 20,
   "metadata": {},
   "outputs": [],
   "source": [
    "# Solution\n",
    "\n",
    "\n"
   ]
  },
  {
   "cell_type": "markdown",
   "metadata": {},
   "source": [
    "#### 20. Compute the maximum and minimum value of mean, variance, standard deviation for each row of matrix created in question number 8."
   ]
  },
  {
   "cell_type": "code",
   "execution_count": 21,
   "metadata": {},
   "outputs": [
    {
     "name": "stdout",
     "output_type": "stream",
     "text": [
      "[[ 9 25 50 34 45]\n",
      " [ 3 34 34 65  2]\n",
      " [ 5  7  3 76  3]\n",
      " [ 7  8  6 54  6]\n",
      " [23 12  8  5  8]]\n",
      "mean of row1: 32.6\n",
      "mean of row1: 32.6\n",
      "mean of row1: 32.6\n",
      "mean of row1: 32.6\n",
      "mean of row1: 32.6\n"
     ]
    }
   ],
   "source": [
    "# Solution\n",
    "print(ar7)\n",
    "row1 = (ar7[0:1]).mean()\n",
    "row2 = (ar7[1:2]).mean()\n",
    "row3 = (ar7[2:3]).mean()\n",
    "row4 = (ar7[3:4]).mean()\n",
    "row5 = (ar7[4:]).mean()\n",
    "print('mean of row1:', row1)\n",
    "print('mean of row1:', row1)\n",
    "print('mean of row1:', row1)\n",
    "print('mean of row1:', row1)\n",
    "print('mean of row1:', row1)"
   ]
  },
  {
   "cell_type": "markdown",
   "metadata": {},
   "source": [
    "#### 21. Compute the average and strike rate for each player and sort it decending way (seperately for avg and strike rate)\n",
    "<img src = 'crick1.png'>"
   ]
  },
  {
   "cell_type": "code",
   "execution_count": 22,
   "metadata": {},
   "outputs": [
    {
     "name": "stdout",
     "output_type": "stream",
     "text": [
      "The Average is: [[16.25 15.   13.5   2.5 ]\n",
      " [25.5  19.5   8.    0.5 ]\n",
      " [27.5  23.    0.75  0.25]\n",
      " [14.   10.5   3.    1.5 ]\n",
      " [ 5.5   3.    2.75  2.  ]]\n",
      "The Strike Rate is: [[142.85714286 108.          83.33333333  45.45454545]\n",
      " [120.         107.36842105  74.41860465  25.        ]\n",
      " [110.          91.08910891  33.33333333  14.28571429]\n",
      " [207.40740741 200.         135.48387097 109.09090909]\n",
      " [ 61.11111111  50.          40.74074074  40.        ]]\n"
     ]
    }
   ],
   "source": [
    "# Solution \n",
    "#MSD\n",
    "MSD_Runs = np.array([54,60,10,65])\n",
    "MSD_Balls = np.array([50,42,22,78])\n",
    "MSD_A = MSD_Runs/len(MSD_Runs)\n",
    "MSD_S = (MSD_Runs/MSD_Balls)*100\n",
    "MSD_Avg = np.sort(MSD_A)[::-1]\n",
    "MSD_SR = np.sort(MSD_S)[::-1]\n",
    "\n",
    "#Kholi\n",
    "Kholi_Runs = np.array([102,2,78,32])\n",
    "Kholi_Balls = np.array([95,8,65,43])\n",
    "Kholi_A = Kholi_Runs/len(Kholi_Runs)\n",
    "Kholi_S = (Kholi_Runs/Kholi_Balls)*100\n",
    "Kholi_Avg = np.sort(Kholi_A)[::-1]\n",
    "Kholi_SR = np.sort(Kholi_S)[::-1]\n",
    "\n",
    "#Rohit\n",
    "Rohit_Runs = np.array([3,110,1,92])\n",
    "Rohit_Balls = np.array([9,100,7,101])\n",
    "Rohit_A = Rohit_Runs/len(Rohit_Runs)\n",
    "Rohit_S = (Rohit_Runs/Rohit_Balls)*100\n",
    "Rohit_Avg = np.sort(Rohit_A)[::-1]\n",
    "Rohit_SR = np.sort(Rohit_S)[::-1]\n",
    "\n",
    "#Rahul\n",
    "Rahul_Runs = np.array([56,6,12,42])\n",
    "Rahul_Balls = np.array([27,3,11,31])\n",
    "Rahul_A = Rahul_Runs/len(Rahul_Runs)\n",
    "Rahul_S = (Rahul_Runs/Rahul_Balls)*100\n",
    "Rahul_Avg = np.sort(Rahul_A)[::-1]\n",
    "Rahul_SR = np.sort(Rahul_S)[::-1]\n",
    "\n",
    "#Dhawan\n",
    "Dhawan_Runs = np.array([12,8,22,11])\n",
    "Dhawan_Balls = np.array([24,20,36,27])\n",
    "Dhawan_A = Dhawan_Runs/len(Dhawan_Runs)\n",
    "Dhawan_S = (Dhawan_Runs/Dhawan_Balls)*100\n",
    "Dhawan_Avg = np.sort(Dhawan_A)[::-1]\n",
    "Dhawan_SR = np.sort(Dhawan_S)[::-1]\n",
    "\n",
    "#Average\n",
    "Average = np.concatenate((MSD_Avg.reshape(1,4),Kholi_Avg.reshape(1,4),Rohit_Avg.reshape(1,4),Rahul_Avg.reshape(1,4),Dhawan_Avg.reshape(1,4)),axis=0)\n",
    "\n",
    "#Strike Rate\n",
    "Strike_Rate = np.concatenate((MSD_SR.reshape(1,4),Kholi_SR.reshape(1,4),Rohit_SR.reshape(1,4),Rahul_SR.reshape(1,4),Dhawan_SR.reshape(1,4)),axis=0)\n",
    "\n",
    "print('The Average is:', Average)\n",
    "print('The Strike Rate is:', Strike_Rate)"
   ]
  },
  {
   "cell_type": "markdown",
   "metadata": {},
   "source": [
    "#### 22. The students mark was recorded in a numpy array: marks = np.array([65,84,47,56,89,98,48,77,80,39]).  Cutoff for pass is 50 marks. Write the logic to print the number of students passed and failed. "
   ]
  },
  {
   "cell_type": "code",
   "execution_count": 23,
   "metadata": {},
   "outputs": [
    {
     "name": "stdout",
     "output_type": "stream",
     "text": [
      "Number of Students Passed: 7\n",
      "Number of Students Failed: 3\n"
     ]
    }
   ],
   "source": [
    "# Solution\n",
    "marks = np.array([65,84,47,56,89,98,48,77,80,39])\n",
    "p = marks[:]>50\n",
    "f = marks[:]<50\n",
    "print('Number of Students Passed:', np.count_nonzero(p))\n",
    "print('Number of Students Failed:', np.count_nonzero(f))"
   ]
  },
  {
   "cell_type": "markdown",
   "metadata": {},
   "source": [
    "23. The class incharge decided to give a mercy mark of 5 for those who scored between 45 and 49. Also the bonus of 5 marks awarded to the students who scored more than 80. Print all the student marks and compute the increase in the pass percentage of class. Any score more than 100 must be recorded as only 100."
   ]
  },
  {
   "cell_type": "code",
   "execution_count": 24,
   "metadata": {},
   "outputs": [
    {
     "name": "stdout",
     "output_type": "stream",
     "text": [
      "new array after mercy marks:\n",
      " [ 65  89  52  56  94 100  53  77  39]\n",
      "\n",
      "Total Number of students is 9 Passed nos: 8 false\n",
      "New Pass Percentage 88.88888888888889 %\n",
      "Difference in percentage is [ 23.88888889  -0.11111111  36.88888889  32.88888889  -5.11111111\n",
      " -11.11111111  35.88888889  11.88888889  49.88888889] %\n"
     ]
    }
   ],
   "source": [
    "# Solution\n",
    "marks = np.array([65,84,47,56,89,98,48,77,39])\n",
    "for i in range(0,len(marks)):\n",
    "    if(((marks[i]>45)&(marks[i]<49))|(marks[i]>80)):\n",
    "        marks[i]=marks[i]+5\n",
    "        if marks[i]>=100:\n",
    "            marks[i]=100\n",
    "            \n",
    "print(\"new array after mercy marks:\\n\",marks)\n",
    "print(\"\\nTotal Number of students is\",len(marks),\"Passed nos:\",((marks>50).sum()),\"false\")\n",
    "new_pass_percent = (((marks>50).sum())/len(marks))*100\n",
    "print(\"New Pass Percentage\", new_pass_percent,'%')\n",
    "print(\"Difference in percentage is\", new_pass_percent-marks,\"%\")\n"
   ]
  },
  {
   "cell_type": "markdown",
   "metadata": {},
   "source": [
    "#### 24. Print the time taken for performing the following operation using list and numpy array\n",
    "####       (x(i)^2 +8) / y(i),   where x and y are real integers from 1 to 60000"
   ]
  },
  {
   "cell_type": "code",
   "execution_count": 25,
   "metadata": {},
   "outputs": [
    {
     "name": "stdout",
     "output_type": "stream",
     "text": [
      "Wall time: 35.9 ms\n",
      "The Time taken for list is: 0.03690052032470703\n",
      "Wall time: 12 ms\n",
      "The Time taken for npy is: 0.013963460922241211\n"
     ]
    }
   ],
   "source": [
    "# Solution\n",
    "import time\n",
    "def lst():\n",
    "    x = list(range(1,60000))\n",
    "    y = list(range(1,60000))\n",
    "    res=[]\n",
    "    for i in range(len(x)):\n",
    "        res.append((((x[i]**2)+8)/y[i]))\n",
    "        #print(res)\n",
    "\n",
    "def npy():\n",
    "    x = np.array(range(1,60000))\n",
    "    y = np.array(range(1,60000))\n",
    "    res = ((x**2)+8)/y\n",
    "    #print(res)\n",
    "\n",
    "start = time.time()\n",
    "%time lst()\n",
    "end = time.time()\n",
    "print('The Time taken for list is:', end-start)\n",
    "start1 = time.time()\n",
    "%time npy()\n",
    "end1 = time.time()\n",
    "print('The Time taken for npy is:', end1-start1)"
   ]
  },
  {
   "cell_type": "markdown",
   "metadata": {},
   "source": [
    "#### 25. Create a Github account and upload your solution with the short write-up on Numpy"
   ]
  },
  {
   "cell_type": "code",
   "execution_count": 26,
   "metadata": {},
   "outputs": [],
   "source": [
    "# Solution\n",
    "\n",
    "\n",
    "\n"
   ]
  }
 ],
 "metadata": {
  "kernelspec": {
   "display_name": "Python 3",
   "language": "python",
   "name": "python3"
  },
  "language_info": {
   "codemirror_mode": {
    "name": "ipython",
    "version": 3
   },
   "file_extension": ".py",
   "mimetype": "text/x-python",
   "name": "python",
   "nbconvert_exporter": "python",
   "pygments_lexer": "ipython3",
   "version": "3.8.8"
  }
 },
 "nbformat": 4,
 "nbformat_minor": 2
}
